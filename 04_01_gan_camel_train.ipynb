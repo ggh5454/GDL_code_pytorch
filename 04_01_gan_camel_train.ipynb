{
 "cells": [
  {
   "cell_type": "code",
   "execution_count": 1,
   "metadata": {},
   "outputs": [],
   "source": [
    "import os\n",
    "import torch\n",
    "import torchvision\n",
    "import torch.nn as nn\n",
    "import torch.optim as optim\n",
    "import torch.nn.functional as F\n",
    "import torchvision.transforms as transforms\n",
    "import numpy as np\n",
    "import matplotlib.pyplot as plt\n",
    "from glob import glob\n",
    "from torch.utils.data import Dataset, DataLoader\n",
    "from PIL import Image\n",
    "\n",
    "os.environ['CUDA_LAUNCH_BLOCKING'] = \"1\"\n",
    "os.environ[\"CUDA_VISIBLE_DEVICES\"] = \"0\"\n"
   ]
  },
  {
   "cell_type": "code",
   "execution_count": 16,
   "metadata": {},
   "outputs": [],
   "source": [
    "# run params\n",
    "SECTION = 'gan'\n",
    "RUN_ID = '0001'\n",
    "DATA_NAME = 'camel'\n",
    "RUN_FOLDER = 'run/{}/'.format(SECTION)\n",
    "RUN_FOLDER += '_'.join([RUN_ID, DATA_NAME])\n",
    "\n",
    "if not os.path.exists(RUN_FOLDER):\n",
    "    os.mkdir(RUN_FOLDER)\n",
    "    os.mkdir(os.path.join(RUN_FOLDER, 'viz'))\n",
    "    os.mkdir(os.path.join(RUN_FOLDER, 'images'))\n",
    "    os.mkdir(os.path.join(RUN_FOLDER, 'weights'))\n",
    "\n",
    "mode =  'build' #'load' #"
   ]
  },
  {
   "cell_type": "code",
   "execution_count": 17,
   "metadata": {},
   "outputs": [],
   "source": [
    "total = np.load(glob('data/camel/*')[0])\n",
    "\n",
    "# train_size = int(len(total) * 0.8)\n",
    "train, test = total[:80000], total[80000:]"
   ]
  },
  {
   "cell_type": "code",
   "execution_count": 18,
   "metadata": {},
   "outputs": [],
   "source": [
    "class SimpleDataset(Dataset):\n",
    "    def __init__(self, npy, transform):\n",
    "        self.npy = npy\n",
    "        self.transform = transform\n",
    "\n",
    "    def __len__(self):\n",
    "        return len(self.npy)\n",
    "\n",
    "    def __getitem__(self, idx):\n",
    "        img = self.npy[idx]\n",
    "        if self.transform:\n",
    "            img = (img.astype('float32') - 127.5) / 127.5\n",
    "            img = img.reshape(28, 28, 1) \n",
    "            img = self.transform(img)\n",
    "            \n",
    "        return img"
   ]
  },
  {
   "cell_type": "code",
   "execution_count": 19,
   "metadata": {},
   "outputs": [],
   "source": [
    "NUM_CLASSES = 10\n",
    "BATCH_SIZE = 64\n",
    "transform = transforms.Compose([   \n",
    "    transforms.ToTensor()\n",
    "])\n",
    "device = 'cuda' if torch.cuda.is_available() else 'cpu'"
   ]
  },
  {
   "cell_type": "code",
   "execution_count": 20,
   "metadata": {},
   "outputs": [],
   "source": [
    "train_dataset = SimpleDataset(train, transform)\n",
    "test_dataset = SimpleDataset(test, transform)\n",
    "\n",
    "train_dataloader = DataLoader(train_dataset, BATCH_SIZE, shuffle=True)\n",
    "test_dataloader = DataLoader(test_dataset, BATCH_SIZE, shuffle=True)"
   ]
  },
  {
   "cell_type": "code",
   "execution_count": 21,
   "metadata": {},
   "outputs": [],
   "source": [
    "class Discriminator(nn.Module):\n",
    "    def __init__(self):\n",
    "        super().__init__()\n",
    "        self.conv1 = nn.Conv2d(1, 64, 5, 2)\n",
    "        self.dropout1 = nn.Dropout(0.4)\n",
    "\n",
    "        self.conv2 = nn.Conv2d(64, 64, 5, 2)\n",
    "        self.dropout2 = nn.Dropout(0.4)\n",
    "\n",
    "        self.conv3 = nn.Conv2d(64, 128, 5, 2)\n",
    "        self.dropout3 = nn.Dropout(0.4)\n",
    "\n",
    "        self.conv4 = nn.Conv2d(128, 128, 5, 1)\n",
    "        self.dropout4 = nn.Dropout(0.4)\n",
    "\n",
    "        self.flatten = nn.Flatten()\n",
    "        self.linear1 = nn.Linear(2048, 1)\n",
    "    def forward(self, x):\n",
    "        x = F.pad(self.conv1(x), (1,1,1,1))\n",
    "        x = F.relu(x)\n",
    "        x = self.dropout1(x)\n",
    "\n",
    "        x = F.pad(self.conv2(x), (1,1,1,1))\n",
    "        x = F.relu(x)\n",
    "        x = self.dropout2(x)\n",
    "\n",
    "        x = F.pad(self.conv3(x), (2,2,2,2))\n",
    "        x = F.relu(x)\n",
    "        x = self.dropout3(x)\n",
    "\n",
    "        x = F.pad(self.conv4(x), (1,1,1,1))\n",
    "        x = F.relu(x)\n",
    "        x = self.dropout4(x)\n",
    "        \n",
    "\n",
    "        x = self.flatten(x)\n",
    "\n",
    "        x = self.linear1(x)\n",
    "        return torch.sigmoid(x)"
   ]
  },
  {
   "cell_type": "code",
   "execution_count": 22,
   "metadata": {},
   "outputs": [
    {
     "data": {
      "text/plain": [
       "tensor([[0.4976]], grad_fn=<SigmoidBackward0>)"
      ]
     },
     "execution_count": 22,
     "metadata": {},
     "output_type": "execute_result"
    }
   ],
   "source": [
    "Discriminator()(torch.randn(1, 1, 28, 28))"
   ]
  },
  {
   "cell_type": "code",
   "execution_count": 23,
   "metadata": {},
   "outputs": [],
   "source": [
    "z_dim = 100\n",
    "class Generator(nn.Module):\n",
    "    def __init__(self, z_dim):\n",
    "        super().__init__()\n",
    "        self.linear1 = nn.Linear(z_dim, 3136)\n",
    "        self.bn1 = nn.BatchNorm1d(3136, momentum=0.9)\n",
    "        self.upsample1 = nn.UpsamplingNearest2d(scale_factor=2)\n",
    "\n",
    "        self.conv1 = nn.Conv2d(64, 128, 5, 1)\n",
    "        self.bn2 = nn.BatchNorm2d(128, momentum=0.9)\n",
    "        self.upsample2 = nn.UpsamplingNearest2d(scale_factor=2)\n",
    "\n",
    "        self.conv2 = nn.Conv2d(128, 64, 5, 1)\n",
    "        self.bn3 = nn.BatchNorm2d(64, momentum=0.9)\n",
    "\n",
    "        self.convT1 = nn.ConvTranspose2d(64, 64, 5, 1, 2)\n",
    "        self.bn4 = nn.BatchNorm2d(64, momentum=0.9)\n",
    "\n",
    "        self.convT2 = nn.ConvTranspose2d(64, 1, 5, 1, 2)\n",
    "\n",
    "        \n",
    "    def forward(self, x):\n",
    "        x = self.bn1(self.linear1(x))\n",
    "        x = F.relu(x)\n",
    "        x = x.reshape(-1, 64, 7, 7)\n",
    "        x = self.upsample1(x)\n",
    "        x = F.pad(self.conv1(x), (2,2,2,2))\n",
    "        x = self.bn2(x)\n",
    "        x = F.relu(x)\n",
    "\n",
    "        x = self.upsample2(x)\n",
    "        x = F.pad(self.conv2(x), (2,2,2,2))\n",
    "        x = F.relu(self.bn3(x))\n",
    "\n",
    "        x = self.convT1(x)\n",
    "        x = self.bn4(x)\n",
    "        x = self.convT2(x)\n",
    "\n",
    "        return torch.tanh(x)"
   ]
  },
  {
   "cell_type": "code",
   "execution_count": 24,
   "metadata": {},
   "outputs": [],
   "source": [
    "discriminator = Discriminator().to(device)\n",
    "generator =  Generator(100).to(device)\n",
    "d_optimizer = optim.RMSprop(discriminator.parameters(),lr=0.0008)\n",
    "g_optimizer = optim.RMSprop(generator.parameters(), lr=0.0004)\n",
    "criterion = nn.BCELoss()"
   ]
  },
  {
   "cell_type": "code",
   "execution_count": 25,
   "metadata": {},
   "outputs": [
    {
     "data": {
      "text/plain": [
       "torch.Size([64, 1, 28, 28])"
      ]
     },
     "execution_count": 25,
     "metadata": {},
     "output_type": "execute_result"
    }
   ],
   "source": [
    "next(iter(train_dataloader)).shape"
   ]
  },
  {
   "cell_type": "code",
   "execution_count": 26,
   "metadata": {},
   "outputs": [
    {
     "name": "stdout",
     "output_type": "stream",
     "text": [
      "[1] d_loss: 0.842 g_loss: 5.862\n",
      "[2] d_loss: 0.750 g_loss: 1.939\n",
      "[3] d_loss: 0.620 g_loss: 2.296\n",
      "[4] d_loss: 0.551 g_loss: 2.546\n",
      "[5] d_loss: 0.515 g_loss: 2.752\n",
      "[6] d_loss: 0.484 g_loss: 2.913\n",
      "[7] d_loss: 0.466 g_loss: 3.038\n",
      "[8] d_loss: 0.466 g_loss: 3.120\n",
      "[9] d_loss: 0.457 g_loss: 3.241\n",
      "[10] d_loss: 0.439 g_loss: 3.425\n",
      "[11] d_loss: 0.428 g_loss: 3.558\n",
      "[12] d_loss: 0.418 g_loss: 3.694\n",
      "[13] d_loss: 0.405 g_loss: 3.852\n",
      "[14] d_loss: 0.391 g_loss: 4.003\n",
      "[15] d_loss: 0.385 g_loss: 4.164\n",
      "[16] d_loss: 0.381 g_loss: 4.254\n",
      "[17] d_loss: 0.365 g_loss: 4.451\n",
      "[18] d_loss: 0.359 g_loss: 4.583\n",
      "[19] d_loss: 0.350 g_loss: 4.825\n",
      "[20] d_loss: 0.347 g_loss: 5.031\n",
      "[21] d_loss: 0.341 g_loss: 5.211\n",
      "[22] d_loss: 0.329 g_loss: 5.435\n",
      "[23] d_loss: 0.333 g_loss: 5.506\n",
      "[24] d_loss: 0.319 g_loss: 5.744\n",
      "[25] d_loss: 0.314 g_loss: 5.805\n",
      "[26] d_loss: 0.313 g_loss: 6.027\n",
      "[27] d_loss: 0.301 g_loss: 6.189\n",
      "[28] d_loss: 0.304 g_loss: 6.325\n",
      "[29] d_loss: 0.301 g_loss: 6.473\n",
      "[30] d_loss: 0.288 g_loss: 6.732\n",
      "[31] d_loss: 0.294 g_loss: 6.812\n",
      "[32] d_loss: 0.291 g_loss: 6.983\n",
      "[33] d_loss: 0.297 g_loss: 7.059\n",
      "[34] d_loss: 0.296 g_loss: 7.112\n",
      "[35] d_loss: 0.302 g_loss: 7.162\n",
      "[36] d_loss: 0.292 g_loss: 7.449\n",
      "[37] d_loss: 0.289 g_loss: 7.397\n",
      "[38] d_loss: 0.296 g_loss: 7.437\n",
      "[39] d_loss: 0.290 g_loss: 7.559\n",
      "[40] d_loss: 0.287 g_loss: 7.718\n",
      "[41] d_loss: 0.283 g_loss: 7.845\n",
      "[42] d_loss: 0.279 g_loss: 7.831\n",
      "[43] d_loss: 0.275 g_loss: 8.009\n",
      "[44] d_loss: 0.269 g_loss: 8.036\n",
      "[45] d_loss: 0.265 g_loss: 8.210\n",
      "[46] d_loss: 0.272 g_loss: 8.316\n",
      "[47] d_loss: 0.273 g_loss: 8.290\n",
      "[48] d_loss: 0.269 g_loss: 8.563\n",
      "[49] d_loss: 0.267 g_loss: 8.583\n",
      "[50] d_loss: 0.262 g_loss: 8.567\n",
      "[51] d_loss: 0.256 g_loss: 8.807\n",
      "[52] d_loss: 0.248 g_loss: 8.715\n",
      "[53] d_loss: 0.242 g_loss: 8.982\n",
      "[54] d_loss: 0.252 g_loss: 8.910\n",
      "[55] d_loss: 0.248 g_loss: 8.846\n",
      "[56] d_loss: 0.241 g_loss: 9.046\n",
      "[57] d_loss: 0.243 g_loss: 9.050\n"
     ]
    },
    {
     "ename": "KeyboardInterrupt",
     "evalue": "",
     "output_type": "error",
     "traceback": [
      "\u001b[1;31m---------------------------------------------------------------------------\u001b[0m",
      "\u001b[1;31mKeyboardInterrupt\u001b[0m                         Traceback (most recent call last)",
      "\u001b[1;32mc:\\Users\\ggh5454\\Desktop\\GAN\\GDL_code_pytorch\\04_01_gan_camel_train.ipynb Cell 12\u001b[0m in \u001b[0;36m<cell line: 2>\u001b[1;34m()\u001b[0m\n\u001b[0;32m     <a href='vscode-notebook-cell:/c%3A/Users/ggh5454/Desktop/GAN/GDL_code_pytorch/04_01_gan_camel_train.ipynb#X26sZmlsZQ%3D%3D?line=23'>24</a>\u001b[0m g_loss \u001b[39m=\u001b[39m criterion(discriminator(generated_images), real)\n\u001b[0;32m     <a href='vscode-notebook-cell:/c%3A/Users/ggh5454/Desktop/GAN/GDL_code_pytorch/04_01_gan_camel_train.ipynb#X26sZmlsZQ%3D%3D?line=25'>26</a>\u001b[0m g_optimizer\u001b[39m.\u001b[39mzero_grad()\n\u001b[1;32m---> <a href='vscode-notebook-cell:/c%3A/Users/ggh5454/Desktop/GAN/GDL_code_pytorch/04_01_gan_camel_train.ipynb#X26sZmlsZQ%3D%3D?line=26'>27</a>\u001b[0m g_loss\u001b[39m.\u001b[39;49mbackward()\n\u001b[0;32m     <a href='vscode-notebook-cell:/c%3A/Users/ggh5454/Desktop/GAN/GDL_code_pytorch/04_01_gan_camel_train.ipynb#X26sZmlsZQ%3D%3D?line=27'>28</a>\u001b[0m g_optimizer\u001b[39m.\u001b[39mstep()\n\u001b[0;32m     <a href='vscode-notebook-cell:/c%3A/Users/ggh5454/Desktop/GAN/GDL_code_pytorch/04_01_gan_camel_train.ipynb#X26sZmlsZQ%3D%3D?line=29'>30</a>\u001b[0m d_total \u001b[39m+\u001b[39m\u001b[39m=\u001b[39m d_loss\u001b[39m.\u001b[39mitem()\n",
      "File \u001b[1;32mc:\\Users\\ggh5454\\.conda\\envs\\pytorch_env1\\lib\\site-packages\\torch\\_tensor.py:396\u001b[0m, in \u001b[0;36mTensor.backward\u001b[1;34m(self, gradient, retain_graph, create_graph, inputs)\u001b[0m\n\u001b[0;32m    387\u001b[0m \u001b[39mif\u001b[39;00m has_torch_function_unary(\u001b[39mself\u001b[39m):\n\u001b[0;32m    388\u001b[0m     \u001b[39mreturn\u001b[39;00m handle_torch_function(\n\u001b[0;32m    389\u001b[0m         Tensor\u001b[39m.\u001b[39mbackward,\n\u001b[0;32m    390\u001b[0m         (\u001b[39mself\u001b[39m,),\n\u001b[1;32m   (...)\u001b[0m\n\u001b[0;32m    394\u001b[0m         create_graph\u001b[39m=\u001b[39mcreate_graph,\n\u001b[0;32m    395\u001b[0m         inputs\u001b[39m=\u001b[39minputs)\n\u001b[1;32m--> 396\u001b[0m torch\u001b[39m.\u001b[39;49mautograd\u001b[39m.\u001b[39;49mbackward(\u001b[39mself\u001b[39;49m, gradient, retain_graph, create_graph, inputs\u001b[39m=\u001b[39;49minputs)\n",
      "File \u001b[1;32mc:\\Users\\ggh5454\\.conda\\envs\\pytorch_env1\\lib\\site-packages\\torch\\autograd\\__init__.py:173\u001b[0m, in \u001b[0;36mbackward\u001b[1;34m(tensors, grad_tensors, retain_graph, create_graph, grad_variables, inputs)\u001b[0m\n\u001b[0;32m    168\u001b[0m     retain_graph \u001b[39m=\u001b[39m create_graph\n\u001b[0;32m    170\u001b[0m \u001b[39m# The reason we repeat same the comment below is that\u001b[39;00m\n\u001b[0;32m    171\u001b[0m \u001b[39m# some Python versions print out the first line of a multi-line function\u001b[39;00m\n\u001b[0;32m    172\u001b[0m \u001b[39m# calls in the traceback and some print out the last line\u001b[39;00m\n\u001b[1;32m--> 173\u001b[0m Variable\u001b[39m.\u001b[39;49m_execution_engine\u001b[39m.\u001b[39;49mrun_backward(  \u001b[39m# Calls into the C++ engine to run the backward pass\u001b[39;49;00m\n\u001b[0;32m    174\u001b[0m     tensors, grad_tensors_, retain_graph, create_graph, inputs,\n\u001b[0;32m    175\u001b[0m     allow_unreachable\u001b[39m=\u001b[39;49m\u001b[39mTrue\u001b[39;49;00m, accumulate_grad\u001b[39m=\u001b[39;49m\u001b[39mTrue\u001b[39;49;00m)\n",
      "\u001b[1;31mKeyboardInterrupt\u001b[0m: "
     ]
    }
   ],
   "source": [
    "d_losses, g_losses = [], []\n",
    "for epoch in range(200):  # loop over the dataset multiple times\n",
    "    g_total, d_total = 0., 0.\n",
    "    for i, inputs in enumerate(train_dataloader, 0):\n",
    "        \n",
    "        inputs = inputs.to(device)\n",
    "        real = torch.ones((BATCH_SIZE, 1)).to(device)\n",
    "        fake = torch.zeros((BATCH_SIZE, 1)).to(device)\n",
    "        generator.eval()\n",
    "        generated_images = generator(torch.randn((BATCH_SIZE, z_dim)).to(device))\n",
    "\n",
    "        d_loss = criterion(discriminator(generated_images), fake)\n",
    "        d_loss += criterion(discriminator(inputs), real)\n",
    "\n",
    "        d_optimizer.zero_grad()\n",
    "        d_loss.backward()\n",
    "        d_optimizer.step()\n",
    "\n",
    "        generator.train()\n",
    "        discriminator.eval()\n",
    "        real = torch.ones((BATCH_SIZE, 1)).to(device)\n",
    "        generated_images = generator(torch.randn((BATCH_SIZE, z_dim)).to(device))\n",
    "\n",
    "        g_loss = criterion(discriminator(generated_images), real)\n",
    "        \n",
    "        g_optimizer.zero_grad()\n",
    "        g_loss.backward()\n",
    "        g_optimizer.step()\n",
    "\n",
    "        d_total += d_loss.item()\n",
    "        g_total += g_loss.item()\n",
    "    \n",
    "    d_losses.append(d_total/len(train_dataloader))\n",
    "    g_losses.append(g_total/len(train_dataloader))\n",
    "\n",
    "    print(f'[{epoch + 1}] d_loss: {d_total / len(train_dataloader):.3f} g_loss: {g_total / len(train_dataloader):.3f}')\n",
    "    torch.save(discriminator, RUN_FOLDER + \"/weights/discriminator.pt\")\n",
    "    torch.save(generator, RUN_FOLDER + \"/weights/generator.pt\")\n",
    "\n",
    "\n",
    "print('Finished Training')"
   ]
  },
  {
   "cell_type": "code",
   "execution_count": 30,
   "metadata": {},
   "outputs": [
    {
     "data": {
      "image/png": "[encoded data removed]",
      "text/plain": [
       "<Figure size 432x288 with 1 Axes>"
      ]
     },
     "metadata": {},
     "output_type": "display_data"
    }
   ],
   "source": [
    "fig = plt.figure()\n",
    "plt.plot([x for x in d_losses], color='red', linewidth=1)\n",
    "\n",
    "plt.plot([y for y in g_losses], color='orange', linewidth=1)\n",
    "\n",
    "plt.show()\n"
   ]
  },
  {
   "cell_type": "code",
   "execution_count": 48,
   "metadata": {},
   "outputs": [
    {
     "data": {
      "image/png": "[encoded data removed]",
      "text/plain": [
       "<Figure size 432x288 with 1 Axes>"
      ]
     },
     "metadata": {},
     "output_type": "display_data"
    },
    {
     "data": {
      "image/png": "[encoded data removed]",
      "text/plain": [
       "<Figure size 432x288 with 1 Axes>"
      ]
     },
     "metadata": {},
     "output_type": "display_data"
    },
    {
     "data": {
      "image/png": "[encoded data removed]",
      "text/plain": [
       "<Figure size 432x288 with 1 Axes>"
      ]
     },
     "metadata": {},
     "output_type": "display_data"
    },
    {
     "data": {
      "image/png": "[encoded data removed]",
      "text/plain": [
       "<Figure size 432x288 with 1 Axes>"
      ]
     },
     "metadata": {},
     "output_type": "display_data"
    },
    {
     "data": {
      "image/png": "[encoded data removed]",
      "text/plain": [
       "<Figure size 432x288 with 1 Axes>"
      ]
     },
     "metadata": {},
     "output_type": "display_data"
    }
   ],
   "source": [
    "generator.eval()\n",
    "transform1 = transforms.ToPILImage()\n",
    "\n",
    "noise = torch.randn(5, 100).to(device)\n",
    "\n",
    "for i in range(noise.shape[0]):\n",
    "    plt.imshow(transform1(generator(noise[i].unsqueeze(0))[0]))\n",
    "    plt.show()"
   ]
  },
  {
   "cell_type": "code",
   "execution_count": null,
   "metadata": {},
   "outputs": [],
   "source": []
  }
 ],
 "metadata": {
  "kernelspec": {
   "display_name": "pytorch_env1",
   "language": "python",
   "name": "python3"
  },
  "language_info": {
   "codemirror_mode": {
    "name": "ipython",
    "version": 3
   },
   "file_extension": ".py",
   "mimetype": "text/x-python",
   "name": "python",
   "nbconvert_exporter": "python",
   "pygments_lexer": "ipython3",
   "version": "3.9.7"
  },
  "orig_nbformat": 4,
  "vscode": {
   "interpreter": {
    "hash": "726535c0f6f932cb5fb7f4ccf074a920e012d87bcb619fd5c2bde3239c103324"
   }
  }
 },
 "nbformat": 4,
 "nbformat_minor": 2
}
